{
 "cells": [
  {
   "cell_type": "markdown",
   "id": "1a9506c7-20a1-4c09-a4e3-365d234f94ab",
   "metadata": {
    "tags": []
   },
   "source": [
    "# Simple Binary Classification on Adult Dataset\n",
    "\n",
    "In this notebook, we explore the Adult dataset and train a simple binary classifier.\n",
    "\n",
    "I am adding some content here!\n",
    "\n",
    "More content is always better!\n",
    "\n",
    "Scrolling is working!"
   ]
  },
  {
   "cell_type": "code",
   "execution_count": 14,
   "id": "569da429-9f9b-419d-a0a1-3d721ee010a7",
   "metadata": {
    "tags": []
   },
   "outputs": [
    {
     "name": "stdout",
     "output_type": "stream",
     "text": [
      "hello world!\n"
     ]
    }
   ],
   "source": [
    "print('hello world!')"
   ]
  },
  {
   "cell_type": "code",
   "execution_count": 13,
   "id": "f2f64a5c-0d35-4f64-8c2b-43145acfcbd9",
   "metadata": {
    "tags": []
   },
   "outputs": [
    {
     "name": "stdout",
     "output_type": "stream",
     "text": [
      "hello!\n"
     ]
    }
   ],
   "source": [
    "print('hello!')"
   ]
  },
  {
   "cell_type": "code",
   "execution_count": 12,
   "id": "1ddb679c-6c83-43d3-be3b-fee159a575e4",
   "metadata": {
    "tags": []
   },
   "outputs": [],
   "source": [
    "var_aa = 444"
   ]
  },
  {
   "cell_type": "code",
   "execution_count": 8,
   "id": "4486e15d-1b9a-421b-af68-3fc73aaf5443",
   "metadata": {
    "tags": []
   },
   "outputs": [
    {
     "name": "stdout",
     "output_type": "stream",
     "text": [
      "10\n"
     ]
    }
   ],
   "source": [
    "var_aa = 10\n",
    "print(var_aa)"
   ]
  },
  {
   "cell_type": "code",
   "execution_count": 563,
   "id": "15d6d3cb-48b6-455c-8d93-a7bdb340d46b",
   "metadata": {
    "tags": []
   },
   "outputs": [],
   "source": [
    "var_aa = 333"
   ]
  },
  {
   "cell_type": "code",
   "execution_count": 25,
   "id": "eabe08ea-965c-4da6-97d0-0d1f2e8da987",
   "metadata": {
    "tags": []
   },
   "outputs": [
    {
     "name": "stdout",
     "output_type": "stream",
     "text": [
      "0.01005033575249134\n",
      "0.6931471803599453\n",
      "4.605170175988091\n",
      "0.01005033575249134\n"
     ]
    }
   ],
   "source": [
    "import numpy as np\n",
    "import time\n",
    "\n",
    "def log_loss(y, p):\n",
    "    \"\"\"\n",
    "    Compute the log loss of scalar predicted proba p and true class label y.\n",
    "    \"\"\"\n",
    "    OFFSET = 1e-10\n",
    "    return -(y * np.log(p + OFFSET) + (1 - y) * np.log(1 - p + OFFSET))\n",
    "\n",
    "# time.sleep(2)\n",
    "print(log_loss(1, 0.99))\n",
    "\n",
    "print(log_loss(1, 0.5))\n",
    "print(log_loss(1, 0.01))\n",
    "print(log_loss(0, 0.01))"
   ]
  },
  {
   "cell_type": "code",
   "execution_count": 89,
   "id": "f6beea6f-79f1-4824-928a-6db796f5f20b",
   "metadata": {
    "tags": []
   },
   "outputs": [
    {
     "data": {
      "image/jpeg": "[encoded data removed]",
      "text/html": [
       "\n",
       "        <iframe\n",
       "            width=\"400\"\n",
       "            height=\"300\"\n",
       "            src=\"https://www.youtube.com/embed/ZDa-Z5JzLYM\"\n",
       "            frameborder=\"0\"\n",
       "            allowfullscreen\n",
       "            \n",
       "        ></iframe>\n",
       "        "
      ],
      "text/plain": [
       "<IPython.lib.display.YouTubeVideo at 0x10d1793d0>"
      ]
     },
     "execution_count": 89,
     "metadata": {},
     "output_type": "execute_result"
    }
   ],
   "source": [
    "from IPython.display import YouTubeVideo\n",
    "YouTubeVideo('ZDa-Z5JzLYM')"
   ]
  },
  {
   "cell_type": "markdown",
   "id": "53e20054-fd03-4d6f-9076-b51064d97e32",
   "metadata": {
    "tags": []
   },
   "source": [
    "$\\alpha$\n",
    "\n",
    "$\\beta$\n",
    "\n",
    "$\\gamma_{123}^{227}$"
   ]
  },
  {
   "cell_type": "code",
   "execution_count": 96,
   "id": "7a27d461-6e7a-4ca9-a0f2-ecb5bda17667",
   "metadata": {},
   "outputs": [],
   "source": [
    "import numpy as np\n",
    "import pandas as pd\n",
    "\n",
    "from matplotlib import pyplot as plt\n",
    "from sklearn.model_selection import train_test_split\n",
    "from collections import Counter"
   ]
  },
  {
   "cell_type": "markdown",
   "id": "a6bffb35-821c-4c8c-a5b7-d5ba8adfd4e3",
   "metadata": {
    "tags": []
   },
   "source": [
    "## 1. Exploratory Data Analyais"
   ]
  },
  {
   "cell_type": "markdown",
   "id": "f414453f-de81-4d38-87ac-3a06454aff24",
   "metadata": {},
   "source": [
    "### 1.1. Loading the Dataset"
   ]
  },
  {
   "cell_type": "code",
   "execution_count": 35,
   "id": "e874b947-e8ff-4556-b493-a4973e5d26fe",
   "metadata": {
    "tags": []
   },
   "outputs": [
    {
     "data": {
      "text/plain": [
       "(32561, 15)"
      ]
     },
     "execution_count": 35,
     "metadata": {},
     "output_type": "execute_result"
    }
   ],
   "source": [
    "df = pd.read_csv(\n",
    "    'https://archive.ics.uci.edu/ml/machine-learning-databases/adult/adult.data',\n",
    "    sep=', ',\n",
    "    engine='python',\n",
    "    header=None\n",
    ")\n",
    "\n",
    "column_names = [\n",
    "    'Age', 'WorkClass', 'fnlwgt', 'Education', 'EducationNum',\n",
    "    'MaritalStatus', 'Occupation', 'Relationship', 'Race', 'Gender',\n",
    "    'CapitalGain', 'CapitalLoss', 'HoursPerWeek', 'NativeCountry', 'Income'\n",
    "]\n",
    "df.columns = [n.lower() for n in column_names]\n",
    "\n",
    "df.shape"
   ]
  },
  {
   "cell_type": "code",
   "execution_count": 39,
   "id": "2758ea01-6e1c-4a97-8454-954cdd586241",
   "metadata": {
    "tags": []
   },
   "outputs": [
    {
     "data": {
      "text/html": [
       "<div>\n",
       "<style scoped>\n",
       "    .dataframe tbody tr th:only-of-type {\n",
       "        vertical-align: middle;\n",
       "    }\n",
       "\n",
       "    .dataframe tbody tr th {\n",
       "        vertical-align: top;\n",
       "    }\n",
       "\n",
       "    .dataframe thead th {\n",
       "        text-align: right;\n",
       "    }\n",
       "</style>\n",
       "<table border=\"1\" class=\"dataframe\">\n",
       "  <thead>\n",
       "    <tr style=\"text-align: right;\">\n",
       "      <th></th>\n",
       "      <th>age</th>\n",
       "      <th>workclass</th>\n",
       "      <th>fnlwgt</th>\n",
       "      <th>education</th>\n",
       "      <th>educationnum</th>\n",
       "      <th>maritalstatus</th>\n",
       "      <th>occupation</th>\n",
       "      <th>relationship</th>\n",
       "      <th>race</th>\n",
       "      <th>gender</th>\n",
       "      <th>capitalgain</th>\n",
       "      <th>capitalloss</th>\n",
       "      <th>hoursperweek</th>\n",
       "      <th>nativecountry</th>\n",
       "      <th>income</th>\n",
       "    </tr>\n",
       "  </thead>\n",
       "  <tbody>\n",
       "    <tr>\n",
       "      <th>0</th>\n",
       "      <td>39</td>\n",
       "      <td>State-gov</td>\n",
       "      <td>77516</td>\n",
       "      <td>Bachelors</td>\n",
       "      <td>13</td>\n",
       "      <td>Never-married</td>\n",
       "      <td>Adm-clerical</td>\n",
       "      <td>Not-in-family</td>\n",
       "      <td>White</td>\n",
       "      <td>Male</td>\n",
       "      <td>2174</td>\n",
       "      <td>0</td>\n",
       "      <td>40</td>\n",
       "      <td>United-States</td>\n",
       "      <td>&lt;=50K</td>\n",
       "    </tr>\n",
       "    <tr>\n",
       "      <th>1</th>\n",
       "      <td>50</td>\n",
       "      <td>Self-emp-not-inc</td>\n",
       "      <td>83311</td>\n",
       "      <td>Bachelors</td>\n",
       "      <td>13</td>\n",
       "      <td>Married-civ-spouse</td>\n",
       "      <td>Exec-managerial</td>\n",
       "      <td>Husband</td>\n",
       "      <td>White</td>\n",
       "      <td>Male</td>\n",
       "      <td>0</td>\n",
       "      <td>0</td>\n",
       "      <td>13</td>\n",
       "      <td>United-States</td>\n",
       "      <td>&lt;=50K</td>\n",
       "    </tr>\n",
       "    <tr>\n",
       "      <th>2</th>\n",
       "      <td>38</td>\n",
       "      <td>Private</td>\n",
       "      <td>215646</td>\n",
       "      <td>HS-grad</td>\n",
       "      <td>9</td>\n",
       "      <td>Divorced</td>\n",
       "      <td>Handlers-cleaners</td>\n",
       "      <td>Not-in-family</td>\n",
       "      <td>White</td>\n",
       "      <td>Male</td>\n",
       "      <td>0</td>\n",
       "      <td>0</td>\n",
       "      <td>40</td>\n",
       "      <td>United-States</td>\n",
       "      <td>&lt;=50K</td>\n",
       "    </tr>\n",
       "    <tr>\n",
       "      <th>3</th>\n",
       "      <td>53</td>\n",
       "      <td>Private</td>\n",
       "      <td>234721</td>\n",
       "      <td>11th</td>\n",
       "      <td>7</td>\n",
       "      <td>Married-civ-spouse</td>\n",
       "      <td>Handlers-cleaners</td>\n",
       "      <td>Husband</td>\n",
       "      <td>Black</td>\n",
       "      <td>Male</td>\n",
       "      <td>0</td>\n",
       "      <td>0</td>\n",
       "      <td>40</td>\n",
       "      <td>United-States</td>\n",
       "      <td>&lt;=50K</td>\n",
       "    </tr>\n",
       "    <tr>\n",
       "      <th>4</th>\n",
       "      <td>28</td>\n",
       "      <td>Private</td>\n",
       "      <td>338409</td>\n",
       "      <td>Bachelors</td>\n",
       "      <td>13</td>\n",
       "      <td>Married-civ-spouse</td>\n",
       "      <td>Prof-specialty</td>\n",
       "      <td>Wife</td>\n",
       "      <td>Black</td>\n",
       "      <td>Female</td>\n",
       "      <td>0</td>\n",
       "      <td>0</td>\n",
       "      <td>40</td>\n",
       "      <td>Cuba</td>\n",
       "      <td>&lt;=50K</td>\n",
       "    </tr>\n",
       "  </tbody>\n",
       "</table>\n",
       "</div>"
      ],
      "text/plain": [
       "   age         workclass  fnlwgt  education  educationnum       maritalstatus  \\\n",
       "0   39         State-gov   77516  Bachelors            13       Never-married   \n",
       "1   50  Self-emp-not-inc   83311  Bachelors            13  Married-civ-spouse   \n",
       "2   38           Private  215646    HS-grad             9            Divorced   \n",
       "3   53           Private  234721       11th             7  Married-civ-spouse   \n",
       "4   28           Private  338409  Bachelors            13  Married-civ-spouse   \n",
       "\n",
       "          occupation   relationship   race  gender  capitalgain  capitalloss  \\\n",
       "0       Adm-clerical  Not-in-family  White    Male         2174            0   \n",
       "1    Exec-managerial        Husband  White    Male            0            0   \n",
       "2  Handlers-cleaners  Not-in-family  White    Male            0            0   \n",
       "3  Handlers-cleaners        Husband  Black    Male            0            0   \n",
       "4     Prof-specialty           Wife  Black  Female            0            0   \n",
       "\n",
       "   hoursperweek  nativecountry income  \n",
       "0            40  United-States  <=50K  \n",
       "1            13  United-States  <=50K  \n",
       "2            40  United-States  <=50K  \n",
       "3            40  United-States  <=50K  \n",
       "4            40           Cuba  <=50K  "
      ]
     },
     "execution_count": 39,
     "metadata": {},
     "output_type": "execute_result"
    }
   ],
   "source": [
    "df.head()"
   ]
  },
  {
   "cell_type": "markdown",
   "id": "d61561b3-33ca-48b0-9d6d-d8387cfe83f5",
   "metadata": {},
   "source": [
    "Transform the target variable `Income` as a binary variable."
   ]
  },
  {
   "cell_type": "code",
   "execution_count": 41,
   "id": "6fa15c97-d90f-40e7-8acb-fe589b4f7df7",
   "metadata": {},
   "outputs": [
    {
     "data": {
      "text/html": [
       "<div>\n",
       "<style scoped>\n",
       "    .dataframe tbody tr th:only-of-type {\n",
       "        vertical-align: middle;\n",
       "    }\n",
       "\n",
       "    .dataframe tbody tr th {\n",
       "        vertical-align: top;\n",
       "    }\n",
       "\n",
       "    .dataframe thead th {\n",
       "        text-align: right;\n",
       "    }\n",
       "</style>\n",
       "<table border=\"1\" class=\"dataframe\">\n",
       "  <thead>\n",
       "    <tr style=\"text-align: right;\">\n",
       "      <th></th>\n",
       "      <th>age</th>\n",
       "      <th>workclass</th>\n",
       "      <th>fnlwgt</th>\n",
       "      <th>education</th>\n",
       "      <th>educationnum</th>\n",
       "      <th>maritalstatus</th>\n",
       "      <th>occupation</th>\n",
       "      <th>relationship</th>\n",
       "      <th>race</th>\n",
       "      <th>gender</th>\n",
       "      <th>capitalgain</th>\n",
       "      <th>capitalloss</th>\n",
       "      <th>hoursperweek</th>\n",
       "      <th>nativecountry</th>\n",
       "      <th>income</th>\n",
       "      <th>target</th>\n",
       "    </tr>\n",
       "  </thead>\n",
       "  <tbody>\n",
       "    <tr>\n",
       "      <th>0</th>\n",
       "      <td>39</td>\n",
       "      <td>State-gov</td>\n",
       "      <td>77516</td>\n",
       "      <td>Bachelors</td>\n",
       "      <td>13</td>\n",
       "      <td>Never-married</td>\n",
       "      <td>Adm-clerical</td>\n",
       "      <td>Not-in-family</td>\n",
       "      <td>White</td>\n",
       "      <td>Male</td>\n",
       "      <td>2174</td>\n",
       "      <td>0</td>\n",
       "      <td>40</td>\n",
       "      <td>United-States</td>\n",
       "      <td>&lt;=50K</td>\n",
       "      <td>0</td>\n",
       "    </tr>\n",
       "    <tr>\n",
       "      <th>1</th>\n",
       "      <td>50</td>\n",
       "      <td>Self-emp-not-inc</td>\n",
       "      <td>83311</td>\n",
       "      <td>Bachelors</td>\n",
       "      <td>13</td>\n",
       "      <td>Married-civ-spouse</td>\n",
       "      <td>Exec-managerial</td>\n",
       "      <td>Husband</td>\n",
       "      <td>White</td>\n",
       "      <td>Male</td>\n",
       "      <td>0</td>\n",
       "      <td>0</td>\n",
       "      <td>13</td>\n",
       "      <td>United-States</td>\n",
       "      <td>&lt;=50K</td>\n",
       "      <td>0</td>\n",
       "    </tr>\n",
       "    <tr>\n",
       "      <th>2</th>\n",
       "      <td>38</td>\n",
       "      <td>Private</td>\n",
       "      <td>215646</td>\n",
       "      <td>HS-grad</td>\n",
       "      <td>9</td>\n",
       "      <td>Divorced</td>\n",
       "      <td>Handlers-cleaners</td>\n",
       "      <td>Not-in-family</td>\n",
       "      <td>White</td>\n",
       "      <td>Male</td>\n",
       "      <td>0</td>\n",
       "      <td>0</td>\n",
       "      <td>40</td>\n",
       "      <td>United-States</td>\n",
       "      <td>&lt;=50K</td>\n",
       "      <td>0</td>\n",
       "    </tr>\n",
       "    <tr>\n",
       "      <th>3</th>\n",
       "      <td>53</td>\n",
       "      <td>Private</td>\n",
       "      <td>234721</td>\n",
       "      <td>11th</td>\n",
       "      <td>7</td>\n",
       "      <td>Married-civ-spouse</td>\n",
       "      <td>Handlers-cleaners</td>\n",
       "      <td>Husband</td>\n",
       "      <td>Black</td>\n",
       "      <td>Male</td>\n",
       "      <td>0</td>\n",
       "      <td>0</td>\n",
       "      <td>40</td>\n",
       "      <td>United-States</td>\n",
       "      <td>&lt;=50K</td>\n",
       "      <td>0</td>\n",
       "    </tr>\n",
       "    <tr>\n",
       "      <th>4</th>\n",
       "      <td>28</td>\n",
       "      <td>Private</td>\n",
       "      <td>338409</td>\n",
       "      <td>Bachelors</td>\n",
       "      <td>13</td>\n",
       "      <td>Married-civ-spouse</td>\n",
       "      <td>Prof-specialty</td>\n",
       "      <td>Wife</td>\n",
       "      <td>Black</td>\n",
       "      <td>Female</td>\n",
       "      <td>0</td>\n",
       "      <td>0</td>\n",
       "      <td>40</td>\n",
       "      <td>Cuba</td>\n",
       "      <td>&lt;=50K</td>\n",
       "      <td>0</td>\n",
       "    </tr>\n",
       "  </tbody>\n",
       "</table>\n",
       "</div>"
      ],
      "text/plain": [
       "   age         workclass  fnlwgt  education  educationnum       maritalstatus  \\\n",
       "0   39         State-gov   77516  Bachelors            13       Never-married   \n",
       "1   50  Self-emp-not-inc   83311  Bachelors            13  Married-civ-spouse   \n",
       "2   38           Private  215646    HS-grad             9            Divorced   \n",
       "3   53           Private  234721       11th             7  Married-civ-spouse   \n",
       "4   28           Private  338409  Bachelors            13  Married-civ-spouse   \n",
       "\n",
       "          occupation   relationship   race  gender  capitalgain  capitalloss  \\\n",
       "0       Adm-clerical  Not-in-family  White    Male         2174            0   \n",
       "1    Exec-managerial        Husband  White    Male            0            0   \n",
       "2  Handlers-cleaners  Not-in-family  White    Male            0            0   \n",
       "3  Handlers-cleaners        Husband  Black    Male            0            0   \n",
       "4     Prof-specialty           Wife  Black  Female            0            0   \n",
       "\n",
       "   hoursperweek  nativecountry income  target  \n",
       "0            40  United-States  <=50K       0  \n",
       "1            13  United-States  <=50K       0  \n",
       "2            40  United-States  <=50K       0  \n",
       "3            40  United-States  <=50K       0  \n",
       "4            40           Cuba  <=50K       0  "
      ]
     },
     "execution_count": 41,
     "metadata": {},
     "output_type": "execute_result"
    }
   ],
   "source": [
    "df['target'] = [0 if l else 1 for l in (df['income'] == '<=50K')]\n",
    "df.head()"
   ]
  },
  {
   "cell_type": "markdown",
   "id": "27dc012c-009a-40ce-ba68-5b5f3315b828",
   "metadata": {
    "tags": []
   },
   "source": [
    "### 1.2. Data Engineering\n",
    "\n",
    "In this section, we visualize the distribution of each feature one by one. Then we remove or transform some features before training the binary classifier."
   ]
  },
  {
   "cell_type": "code",
   "execution_count": 43,
   "id": "e4cc3071-2b6d-4939-b6e0-3acfa1c639a9",
   "metadata": {},
   "outputs": [],
   "source": [
    "def overlay_hist(df, c):\n",
    "    \"\"\"\n",
    "    Plot two histogram of two values overlaying each other.\n",
    "    \"\"\"\n",
    "    \n",
    "    num_unique = len(df[c].unique())\n",
    "    \n",
    "    if df[c].dtype == 'object':\n",
    "        counter_1 = Counter(df[c][df['target'] == 1])\n",
    "        counter_2 = Counter(df[c][df['target'] != 1])\n",
    "\n",
    "        bar_names = []\n",
    "        bar_densities_1 = []\n",
    "        bar_densities_2 = []\n",
    "\n",
    "        for f in counter_1:\n",
    "            bar_names.append(f)\n",
    "            bar_densities_1.append(counter_1[f] / df.shape[0])\n",
    "            bar_densities_2.append(counter_2[f] / df.shape[0])\n",
    "\n",
    "        for f in counter_2:\n",
    "            if f not in counter_1:\n",
    "                bar_names.append(f)\n",
    "                bar_densities_1.append(counter_1[f] / df.shape[0])\n",
    "                bar_densities_2.append(counter_2[f] / df.shape[0])\n",
    "\n",
    "        count_df = pd.DataFrame(np.c_[bar_densities_2, bar_densities_1], index=bar_names)\n",
    "        ax = count_df.plot.bar(alpha=0.5)\n",
    "        ax.set_title(c)\n",
    "        ax.figure.autofmt_xdate(rotation=45)\n",
    "\n",
    "    else:\n",
    "        plt.hist(df[c][df['target'] == 1], alpha=0.5, density=True, label='>50k', bins=50)\n",
    "        plt.hist(df[c][df['target'] != 1], alpha=0.5, density=True, label='<=50k', bins=50)\n",
    "        plt.title(c)\n",
    "        \n",
    "    plt.legend(loc='upper right')\n",
    "    print('Num of unique values: ', num_unique)\n",
    "    plt.show()"
   ]
  },
  {
   "cell_type": "code",
   "execution_count": 321,
   "id": "6b2abba0-7e01-4753-a168-cfe1dcbce606",
   "metadata": {},
   "outputs": [],
   "source": [
    "new_df = df.copy()"
   ]
  },
  {
   "cell_type": "code",
   "execution_count": 322,
   "id": "854b7291-a4a1-447c-8cea-903b0d87b426",
   "metadata": {},
   "outputs": [
    {
     "name": "stdout",
     "output_type": "stream",
     "text": [
      "Num of unique values:  73\n"
     ]
    },
    {
     "data": {
      "image/png": "[encoded data removed]",
      "text/plain": [
       "<Figure size 432x288 with 1 Axes>"
      ]
     },
     "metadata": {
      "needs_background": "light"
     },
     "output_type": "display_data"
    }
   ],
   "source": [
    "overlay_hist(df, 'age')"
   ]
  },
  {
   "cell_type": "markdown",
   "id": "1f3bb112-538b-4192-b666-cbf2e85b5629",
   "metadata": {},
   "source": [
    "The distribution difference between these two groups on age is quite significant."
   ]
  },
  {
   "cell_type": "code",
   "execution_count": 323,
   "id": "f3538a64-2295-4da3-870f-411146bf389a",
   "metadata": {},
   "outputs": [
    {
     "name": "stdout",
     "output_type": "stream",
     "text": [
      "Num of unique values:  9\n"
     ]
    },
    {
     "data": {
      "image/png": "[encoded data removed]",
      "text/plain": [
       "<Figure size 432x288 with 1 Axes>"
      ]
     },
     "metadata": {
      "needs_background": "light"
     },
     "output_type": "display_data"
    }
   ],
   "source": [
    "overlay_hist(df, 'workclass')"
   ]
  },
  {
   "cell_type": "code",
   "execution_count": 324,
   "id": "6feecbb4-6d36-4207-8e77-35e9b88b6d02",
   "metadata": {},
   "outputs": [
    {
     "name": "stdout",
     "output_type": "stream",
     "text": [
      "Num of unique values:  21648\n"
     ]
    },
    {
     "data": {
      "image/png": "[encoded data removed]",
      "text/plain": [
       "<Figure size 432x288 with 1 Axes>"
      ]
     },
     "metadata": {
      "needs_background": "light"
     },
     "output_type": "display_data"
    }
   ],
   "source": [
    "overlay_hist(df, 'fnlwgt')"
   ]
  },
  {
   "cell_type": "markdown",
   "id": "3185a5cd-efad-4c72-acd1-db245428eeb4",
   "metadata": {},
   "source": [
    "`fnlwgt` stands for \"Final Weight\", which is used to give weight to different sample so that people with similar demographic characteristics have the same weight. This feature is not really useful in this model."
   ]
  },
  {
   "cell_type": "code",
   "execution_count": 325,
   "id": "41d36478-8c7a-4e69-8c44-1b267ad16521",
   "metadata": {},
   "outputs": [],
   "source": [
    "del new_df['fnlwgt']"
   ]
  },
  {
   "cell_type": "code",
   "execution_count": 326,
   "id": "d6457290-6ebb-4195-85b2-6aff7e6be816",
   "metadata": {},
   "outputs": [
    {
     "name": "stdout",
     "output_type": "stream",
     "text": [
      "Num of unique values:  16\n"
     ]
    },
    {
     "data": {
      "image/png": "[encoded data removed]",
      "text/plain": [
       "<Figure size 432x288 with 1 Axes>"
      ]
     },
     "metadata": {
      "needs_background": "light"
     },
     "output_type": "display_data"
    }
   ],
   "source": [
    "overlay_hist(df, 'education')"
   ]
  },
  {
   "cell_type": "code",
   "execution_count": 327,
   "id": "c3d700fc-7f7e-4cac-bf75-6f38c3c2b2d2",
   "metadata": {},
   "outputs": [
    {
     "name": "stdout",
     "output_type": "stream",
     "text": [
      "Num of unique values:  16\n"
     ]
    },
    {
     "data": {
      "image/png": "[encoded data removed]",
      "text/plain": [
       "<Figure size 432x288 with 1 Axes>"
      ]
     },
     "metadata": {
      "needs_background": "light"
     },
     "output_type": "display_data"
    }
   ],
   "source": [
    "overlay_hist(df, 'educationnum')"
   ]
  },
  {
   "cell_type": "code",
   "execution_count": 328,
   "id": "4000fc54-ce21-470f-9eb0-61c71af5806a",
   "metadata": {},
   "outputs": [
    {
     "name": "stdout",
     "output_type": "stream",
     "text": [
      "Num of unique values:  7\n"
     ]
    },
    {
     "data": {
      "image/png": "[encoded data removed]",
      "text/plain": [
       "<Figure size 432x288 with 1 Axes>"
      ]
     },
     "metadata": {
      "needs_background": "light"
     },
     "output_type": "display_data"
    }
   ],
   "source": [
    "overlay_hist(df, 'maritalstatus')"
   ]
  },
  {
   "cell_type": "code",
   "execution_count": 329,
   "id": "40b99197-da1e-4d00-8fab-3c0ccf7b380d",
   "metadata": {},
   "outputs": [
    {
     "name": "stdout",
     "output_type": "stream",
     "text": [
      "Num of unique values:  15\n"
     ]
    },
    {
     "data": {
      "image/png": "[encoded data removed]",
      "text/plain": [
       "<Figure size 432x288 with 1 Axes>"
      ]
     },
     "metadata": {
      "needs_background": "light"
     },
     "output_type": "display_data"
    }
   ],
   "source": [
    "overlay_hist(df, 'occupation')"
   ]
  },
  {
   "cell_type": "code",
   "execution_count": 330,
   "id": "b3ae30ec-4815-487b-9a31-aa3bda7ee755",
   "metadata": {},
   "outputs": [
    {
     "name": "stdout",
     "output_type": "stream",
     "text": [
      "Num of unique values:  6\n"
     ]
    },
    {
     "data": {
      "image/png": "[encoded data removed]",
      "text/plain": [
       "<Figure size 432x288 with 1 Axes>"
      ]
     },
     "metadata": {
      "needs_background": "light"
     },
     "output_type": "display_data"
    }
   ],
   "source": [
    "overlay_hist(df, 'relationship')"
   ]
  },
  {
   "cell_type": "code",
   "execution_count": 331,
   "id": "6c598c24-6ab1-47b9-9727-40af95f82575",
   "metadata": {},
   "outputs": [
    {
     "name": "stdout",
     "output_type": "stream",
     "text": [
      "Num of unique values:  5\n"
     ]
    },
    {
     "data": {
      "image/png": "[encoded data removed]",
      "text/plain": [
       "<Figure size 432x288 with 1 Axes>"
      ]
     },
     "metadata": {
      "needs_background": "light"
     },
     "output_type": "display_data"
    }
   ],
   "source": [
    "overlay_hist(df, 'race')"
   ]
  },
  {
   "cell_type": "code",
   "execution_count": 332,
   "id": "0bcad58c-3674-4e27-b1a2-915c2562ed9e",
   "metadata": {},
   "outputs": [
    {
     "name": "stdout",
     "output_type": "stream",
     "text": [
      "Num of unique values:  2\n"
     ]
    },
    {
     "data": {
      "image/png": "[encoded data removed]",
      "text/plain": [
       "<Figure size 432x288 with 1 Axes>"
      ]
     },
     "metadata": {
      "needs_background": "light"
     },
     "output_type": "display_data"
    }
   ],
   "source": [
    "overlay_hist(df, 'gender')"
   ]
  },
  {
   "cell_type": "code",
   "execution_count": 333,
   "id": "8c22ced9-8bb5-442e-8bee-7ae7de61f686",
   "metadata": {},
   "outputs": [
    {
     "name": "stdout",
     "output_type": "stream",
     "text": [
      "Num of unique values:  119\n"
     ]
    },
    {
     "data": {
      "image/png": "[encoded data removed]",
      "text/plain": [
       "<Figure size 432x288 with 1 Axes>"
      ]
     },
     "metadata": {
      "needs_background": "light"
     },
     "output_type": "display_data"
    }
   ],
   "source": [
    "overlay_hist(df, 'capitalgain')"
   ]
  },
  {
   "cell_type": "code",
   "execution_count": 334,
   "id": "2c3910df-b687-4b7a-b50a-0ae507466441",
   "metadata": {},
   "outputs": [
    {
     "name": "stdout",
     "output_type": "stream",
     "text": [
      "Num of unique values:  92\n"
     ]
    },
    {
     "data": {
      "image/png": "[encoded data removed]",
      "text/plain": [
       "<Figure size 432x288 with 1 Axes>"
      ]
     },
     "metadata": {
      "needs_background": "light"
     },
     "output_type": "display_data"
    }
   ],
   "source": [
    "overlay_hist(df, 'capitalloss')"
   ]
  },
  {
   "cell_type": "markdown",
   "id": "855ad848-bf4b-4ca3-9ce5-051bbc0c1b97",
   "metadata": {},
   "source": [
    "These two features `capitalgain` and `capitalloss` have many 0 values. It makes sense, because the census define capital gain/loss as the profit/loss of asset sales (stocks or real estate). Not all people would yield cpaital gain/loss in a particular. We can convert these two variables as binary features `has_capitalgain` and `has_capitalloss`."
   ]
  },
  {
   "cell_type": "code",
   "execution_count": 335,
   "id": "f935bccd-e338-40f6-90d9-a68620a4aee7",
   "metadata": {},
   "outputs": [],
   "source": [
    "new_df['has_capitalgain'] = [int(t) for t in df['capitalgain'] != 0]\n",
    "new_df['has_capitalloss'] = [int(t) for t in df['capitalloss'] != 0]\n",
    "\n",
    "del new_df['capitalgain']\n",
    "del new_df['capitalloss']"
   ]
  },
  {
   "cell_type": "code",
   "execution_count": 336,
   "id": "a178b75f-cd7f-41f2-adaa-0046100131cc",
   "metadata": {},
   "outputs": [
    {
     "name": "stdout",
     "output_type": "stream",
     "text": [
      "Num of unique values:  94\n"
     ]
    },
    {
     "data": {
      "image/png": "[encoded data removed]",
      "text/plain": [
       "<Figure size 432x288 with 1 Axes>"
      ]
     },
     "metadata": {
      "needs_background": "light"
     },
     "output_type": "display_data"
    }
   ],
   "source": [
    "overlay_hist(df, 'hoursperweek')"
   ]
  },
  {
   "cell_type": "markdown",
   "id": "2ffc4bea-5d4e-438a-92b4-66882cddff48",
   "metadata": {},
   "source": [
    "Working 40 hours a week is typical in the dataset. Interestingly people who earn more tend to work longer."
   ]
  },
  {
   "cell_type": "code",
   "execution_count": 337,
   "id": "6f7d7bf1-dc81-4114-a4f0-e2ef2787d827",
   "metadata": {
    "tags": []
   },
   "outputs": [
    {
     "name": "stdout",
     "output_type": "stream",
     "text": [
      "Num of unique values:  42\n"
     ]
    },
    {
     "data": {
      "image/png": "[encoded data removed]",
      "text/plain": [
       "<Figure size 432x288 with 1 Axes>"
      ]
     },
     "metadata": {
      "needs_background": "light"
     },
     "output_type": "display_data"
    }
   ],
   "source": [
    "overlay_hist(df, 'nativecountry')"
   ]
  },
  {
   "cell_type": "markdown",
   "id": "8c609dac-9786-410a-8306-1bc0f11f9c7a",
   "metadata": {},
   "source": [
    "The majority of the native country is the US. We can encode it as another binary variable `from-usa` to decrease the number of levels."
   ]
  },
  {
   "cell_type": "code",
   "execution_count": 338,
   "id": "c6577729-74f5-4b46-9f9a-5eb8e2d3da3a",
   "metadata": {},
   "outputs": [],
   "source": [
    "new_df['from_usa'] = [int(t) for t in df['nativecountry'] == 'United-States']\n",
    "del new_df['nativecountry']"
   ]
  },
  {
   "cell_type": "code",
   "execution_count": 339,
   "id": "6aff1eb5-1fcb-4e34-89d2-00afc645a3f4",
   "metadata": {},
   "outputs": [
    {
     "name": "stdout",
     "output_type": "stream",
     "text": [
      "Num of unique values:  2\n"
     ]
    },
    {
     "data": {
      "image/png": "[encoded data removed]",
      "text/plain": [
       "<Figure size 432x288 with 1 Axes>"
      ]
     },
     "metadata": {
      "needs_background": "light"
     },
     "output_type": "display_data"
    }
   ],
   "source": [
    "overlay_hist(df, 'income')"
   ]
  },
  {
   "cell_type": "markdown",
   "id": "ae05f85f-3ef5-40c1-ae79-95f89fac1993",
   "metadata": {},
   "source": [
    "It shows this dataset is quite imbalanced."
   ]
  },
  {
   "cell_type": "code",
   "execution_count": 340,
   "id": "de569ffb-4861-4d3f-9264-b26c29a9903b",
   "metadata": {
    "tags": []
   },
   "outputs": [
    {
     "data": {
      "text/html": [
       "<div>\n",
       "<style scoped>\n",
       "    .dataframe tbody tr th:only-of-type {\n",
       "        vertical-align: middle;\n",
       "    }\n",
       "\n",
       "    .dataframe tbody tr th {\n",
       "        vertical-align: top;\n",
       "    }\n",
       "\n",
       "    .dataframe thead th {\n",
       "        text-align: right;\n",
       "    }\n",
       "</style>\n",
       "<table border=\"1\" class=\"dataframe\">\n",
       "  <thead>\n",
       "    <tr style=\"text-align: right;\">\n",
       "      <th></th>\n",
       "      <th>age</th>\n",
       "      <th>workclass</th>\n",
       "      <th>education</th>\n",
       "      <th>educationnum</th>\n",
       "      <th>maritalstatus</th>\n",
       "      <th>occupation</th>\n",
       "      <th>relationship</th>\n",
       "      <th>race</th>\n",
       "      <th>gender</th>\n",
       "      <th>hoursperweek</th>\n",
       "      <th>income</th>\n",
       "      <th>target</th>\n",
       "      <th>has_capitalgain</th>\n",
       "      <th>has_capitalloss</th>\n",
       "      <th>from_usa</th>\n",
       "    </tr>\n",
       "  </thead>\n",
       "  <tbody>\n",
       "    <tr>\n",
       "      <th>0</th>\n",
       "      <td>39</td>\n",
       "      <td>State-gov</td>\n",
       "      <td>Bachelors</td>\n",
       "      <td>13</td>\n",
       "      <td>Never-married</td>\n",
       "      <td>Adm-clerical</td>\n",
       "      <td>Not-in-family</td>\n",
       "      <td>White</td>\n",
       "      <td>Male</td>\n",
       "      <td>40</td>\n",
       "      <td>&lt;=50K</td>\n",
       "      <td>0</td>\n",
       "      <td>1</td>\n",
       "      <td>0</td>\n",
       "      <td>1</td>\n",
       "    </tr>\n",
       "    <tr>\n",
       "      <th>1</th>\n",
       "      <td>50</td>\n",
       "      <td>Self-emp-not-inc</td>\n",
       "      <td>Bachelors</td>\n",
       "      <td>13</td>\n",
       "      <td>Married-civ-spouse</td>\n",
       "      <td>Exec-managerial</td>\n",
       "      <td>Husband</td>\n",
       "      <td>White</td>\n",
       "      <td>Male</td>\n",
       "      <td>13</td>\n",
       "      <td>&lt;=50K</td>\n",
       "      <td>0</td>\n",
       "      <td>0</td>\n",
       "      <td>0</td>\n",
       "      <td>1</td>\n",
       "    </tr>\n",
       "    <tr>\n",
       "      <th>2</th>\n",
       "      <td>38</td>\n",
       "      <td>Private</td>\n",
       "      <td>HS-grad</td>\n",
       "      <td>9</td>\n",
       "      <td>Divorced</td>\n",
       "      <td>Handlers-cleaners</td>\n",
       "      <td>Not-in-family</td>\n",
       "      <td>White</td>\n",
       "      <td>Male</td>\n",
       "      <td>40</td>\n",
       "      <td>&lt;=50K</td>\n",
       "      <td>0</td>\n",
       "      <td>0</td>\n",
       "      <td>0</td>\n",
       "      <td>1</td>\n",
       "    </tr>\n",
       "    <tr>\n",
       "      <th>3</th>\n",
       "      <td>53</td>\n",
       "      <td>Private</td>\n",
       "      <td>11th</td>\n",
       "      <td>7</td>\n",
       "      <td>Married-civ-spouse</td>\n",
       "      <td>Handlers-cleaners</td>\n",
       "      <td>Husband</td>\n",
       "      <td>Black</td>\n",
       "      <td>Male</td>\n",
       "      <td>40</td>\n",
       "      <td>&lt;=50K</td>\n",
       "      <td>0</td>\n",
       "      <td>0</td>\n",
       "      <td>0</td>\n",
       "      <td>1</td>\n",
       "    </tr>\n",
       "    <tr>\n",
       "      <th>4</th>\n",
       "      <td>28</td>\n",
       "      <td>Private</td>\n",
       "      <td>Bachelors</td>\n",
       "      <td>13</td>\n",
       "      <td>Married-civ-spouse</td>\n",
       "      <td>Prof-specialty</td>\n",
       "      <td>Wife</td>\n",
       "      <td>Black</td>\n",
       "      <td>Female</td>\n",
       "      <td>40</td>\n",
       "      <td>&lt;=50K</td>\n",
       "      <td>0</td>\n",
       "      <td>0</td>\n",
       "      <td>0</td>\n",
       "      <td>0</td>\n",
       "    </tr>\n",
       "  </tbody>\n",
       "</table>\n",
       "</div>"
      ],
      "text/plain": [
       "   age         workclass  education  educationnum       maritalstatus  \\\n",
       "0   39         State-gov  Bachelors            13       Never-married   \n",
       "1   50  Self-emp-not-inc  Bachelors            13  Married-civ-spouse   \n",
       "2   38           Private    HS-grad             9            Divorced   \n",
       "3   53           Private       11th             7  Married-civ-spouse   \n",
       "4   28           Private  Bachelors            13  Married-civ-spouse   \n",
       "\n",
       "          occupation   relationship   race  gender  hoursperweek income  \\\n",
       "0       Adm-clerical  Not-in-family  White    Male            40  <=50K   \n",
       "1    Exec-managerial        Husband  White    Male            13  <=50K   \n",
       "2  Handlers-cleaners  Not-in-family  White    Male            40  <=50K   \n",
       "3  Handlers-cleaners        Husband  Black    Male            40  <=50K   \n",
       "4     Prof-specialty           Wife  Black  Female            40  <=50K   \n",
       "\n",
       "   target  has_capitalgain  has_capitalloss  from_usa  \n",
       "0       0                1                0         1  \n",
       "1       0                0                0         1  \n",
       "2       0                0                0         1  \n",
       "3       0                0                0         1  \n",
       "4       0                0                0         0  "
      ]
     },
     "execution_count": 340,
     "metadata": {},
     "output_type": "execute_result"
    }
   ],
   "source": [
    "new_df.head()"
   ]
  }
 ],
 "metadata": {
  "kernelspec": {
   "display_name": "Python 3 (ipykernel)",
   "language": "python",
   "name": "python3"
  },
  "language_info": {
   "codemirror_mode": {
    "name": "ipython",
    "version": 3
   },
   "file_extension": ".py",
   "mimetype": "text/x-python",
   "name": "python",
   "nbconvert_exporter": "python",
   "pygments_lexer": "ipython3",
   "version": "3.8.12"
  },
  "toc-autonumbering": false,
  "toc-showcode": false,
  "toc-showmarkdowntxt": false
 },
 "nbformat": 4,
 "nbformat_minor": 5
}
